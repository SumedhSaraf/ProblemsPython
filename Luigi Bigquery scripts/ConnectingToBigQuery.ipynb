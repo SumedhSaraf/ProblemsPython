{
 "cells": [
  {
   "cell_type": "code",
   "execution_count": 1,
   "metadata": {},
   "outputs": [
    {
     "name": "stderr",
     "output_type": "stream",
     "text": [
      "DEBUG: Checking if SquaredNumbers() is complete\n",
      "DEBUG: Checking if PrintNumbers() is complete\n",
      "INFO: Informed scheduler that task   SquaredNumbers__99914b932b   has status   PENDING\n",
      "INFO: Informed scheduler that task   PrintNumbers__99914b932b   has status   PENDING\n",
      "INFO: Done scheduling tasks\n",
      "INFO: Running Worker with 1 processes\n",
      "DEBUG: Asking scheduler for work...\n",
      "DEBUG: Pending tasks: 2\n",
      "INFO: [pid 14288] Worker Worker(salt=934940021, workers=1, host=DESKTOP-P3PI6VV, username=sumed, pid=14288) running   PrintNumbers()\n",
      "INFO: [pid 14288] Worker Worker(salt=934940021, workers=1, host=DESKTOP-P3PI6VV, username=sumed, pid=14288) done      PrintNumbers()\n",
      "DEBUG: 1 running tasks, waiting for next task to finish\n",
      "INFO: Informed scheduler that task   PrintNumbers__99914b932b   has status   DONE\n",
      "DEBUG: Asking scheduler for work...\n",
      "DEBUG: Pending tasks: 1\n",
      "INFO: [pid 14288] Worker Worker(salt=934940021, workers=1, host=DESKTOP-P3PI6VV, username=sumed, pid=14288) running   SquaredNumbers()\n",
      "INFO: [pid 14288] Worker Worker(salt=934940021, workers=1, host=DESKTOP-P3PI6VV, username=sumed, pid=14288) done      SquaredNumbers()\n",
      "DEBUG: 1 running tasks, waiting for next task to finish\n",
      "INFO: Informed scheduler that task   SquaredNumbers__99914b932b   has status   DONE\n",
      "DEBUG: Asking scheduler for work...\n",
      "DEBUG: Done\n",
      "DEBUG: There are no more tasks to run at this time\n",
      "INFO: Worker Worker(salt=934940021, workers=1, host=DESKTOP-P3PI6VV, username=sumed, pid=14288) was stopped. Shutting down Keep-Alive thread\n",
      "INFO: \n",
      "===== Luigi Execution Summary =====\n",
      "\n",
      "Scheduled 2 tasks of which:\n",
      "* 2 ran successfully:\n",
      "    - 1 PrintNumbers()\n",
      "    - 1 SquaredNumbers()\n",
      "\n",
      "This progress looks :) because there were no failed tasks or missing external dependencies\n",
      "\n",
      "===== Luigi Execution Summary =====\n",
      "\n"
     ]
    }
   ],
   "source": [
    "#jupyter notebook --NotebookApp.iopub_data_rate_limit=1.0e10\n",
    "import luigi\n",
    "from bigquery import get_client\n",
    " \n",
    "class PrintNumbers(luigi.Task):\n",
    " \n",
    "    def requires(self):\n",
    "        return []\n",
    " \n",
    "    def output(self):\n",
    "        return luigi.LocalTarget(\"numbers_up_to_18.csv\")\n",
    " \n",
    "    def run(self):\n",
    "        json_key = 'clients_secret.json'\n",
    "        client = get_client(json_key_file=json_key, readonly=True)\n",
    "#print(\"started querying\")\n",
    "        queryStatement = \"SELECT  * FROM [myproject93406:BigData.Images] where int64_field_0 > 240;\"\n",
    "#print(queryStatement) \n",
    "        job_id, _results = client.query(queryStatement,timeout = 25)\n",
    "        complete, row_count = client.check_job(job_id)\n",
    "        if complete:\n",
    "            results = client.get_query_rows(job_id)\n",
    "        else:\n",
    "            results = \"Long time to process request\"\n",
    "        with self.output().open('w') as f:\n",
    "            for r in results:\n",
    "                f.write('{}\\n'.format(r))\n",
    "\n",
    "class SquaredNumbers(luigi.Task):\n",
    " \n",
    "    def requires(self):\n",
    "        return [PrintNumbers()]\n",
    " \n",
    "    def output(self):\n",
    "        return luigi.LocalTarget(\"squares8.csv\")\n",
    " \n",
    "    def run(self):\n",
    "        with self.input()[0].open() as fin, self.output().open('w') as fout:\n",
    "            for line in fin:\n",
    "                fout.write('{}\\n'.format(line[:63]))\n",
    "                \n",
    "#                 n = int(line.strip())\n",
    "#                 out = n * n\n",
    "                \n",
    "                 \n",
    "if __name__ == '__main__':\n",
    "    luigi.run([\"--local-scheduler\"], main_task_cls=SquaredNumbers)\n",
    "    #luigi.run()"
   ]
  },
  {
   "cell_type": "code",
   "execution_count": null,
   "metadata": {
    "collapsed": true
   },
   "outputs": [],
   "source": [
    "#Table ID\tmyproject93406:BigData.Images"
   ]
  },
  {
   "cell_type": "code",
   "execution_count": null,
   "metadata": {
    "collapsed": true
   },
   "outputs": [],
   "source": [
    "#import argparse\n",
    "\n",
    "from google.cloud import bigquery\n",
    "#from bigquery import get_client\n",
    "\n",
    "\n",
    "def export_data_to_gcs(dataset_id, table_id, destination):\n",
    "    json_key = 'clients_secret.json'\n",
    "    bigquery_client = bigquery.Client()\n",
    " \n",
    "    dataset_ref = bigquery_client.dataset(dataset_id)\n",
    "    table_ref = dataset_ref.table(table_id)\n",
    "\n",
    "    job = bigquery_client.extract_table(table_ref, destination)\n",
    "\n",
    "    job.result()  # Waits for job to complete\n",
    "\n",
    "    print('Exported {}:{} to {}'.format(\n",
    "        dataset_id, table_id, destination))\n",
    "\n",
    "\n",
    "export_data_to_gcs('BigData','myproject93406:BigData.Image','gs://saxsa/imag')"
   ]
  }
 ],
 "metadata": {
  "kernelspec": {
   "display_name": "Python 3",
   "language": "python",
   "name": "python3"
  },
  "language_info": {
   "codemirror_mode": {
    "name": "ipython",
    "version": 3
   },
   "file_extension": ".py",
   "mimetype": "text/x-python",
   "name": "python",
   "nbconvert_exporter": "python",
   "pygments_lexer": "ipython3",
   "version": "3.6.1"
  }
 },
 "nbformat": 4,
 "nbformat_minor": 2
}
